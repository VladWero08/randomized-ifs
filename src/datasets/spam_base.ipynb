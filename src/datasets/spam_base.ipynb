{
 "cells": [
  {
   "cell_type": "code",
   "execution_count": 1,
   "metadata": {},
   "outputs": [],
   "source": [
    "import sys\n",
    "import os\n",
    "\n",
    "# import parent directory\n",
    "sys.path.append(os.path.abspath(os.path.join(os.getcwd(), \"..\")))"
   ]
  },
  {
   "cell_type": "code",
   "execution_count": 2,
   "metadata": {},
   "outputs": [],
   "source": [
    "import time\n",
    "import numpy as np\n",
    "\n",
    "from ucimlrepo import fetch_ucirepo \n",
    "from sklearn.metrics import roc_auc_score, average_precision_score\n",
    "\n",
    "from forests.i_forest import IForest\n",
    "from forests.ei_forest import EIForest\n",
    "from forests.sci_forest import SCIForest\n",
    "from forests.fc_forest import FCForest"
   ]
  },
  {
   "cell_type": "code",
   "execution_count": 3,
   "metadata": {},
   "outputs": [],
   "source": [
    "iforest_params = {\n",
    "}"
   ]
  },
  {
   "cell_type": "code",
   "execution_count": 4,
   "metadata": {},
   "outputs": [],
   "source": [
    "# fetch the dataset, where the \n",
    "# outliers are labeled with 1\n",
    "# inliers are labeld with 0\n",
    "spam_base = fetch_ucirepo(id=94) "
   ]
  },
  {
   "cell_type": "code",
   "execution_count": null,
   "metadata": {},
   "outputs": [],
   "source": [
    "# get the data and standardize it\n",
    "X = spam_base.data.features.to_numpy() \n",
    "X = (X - np.mean(X, axis=0)) / np.std(X, axis=0)\n",
    "\n",
    "# get the labels\n",
    "y = spam_base.data.targets.to_numpy()\n",
    "y = y.reshape(-1)\n",
    "\n",
    "# compute the contamination rate\n",
    "contamination = np.round(np.sum(y == 1) / y.shape[0], 4)\n",
    "print(f\"Contamination rate: {contamination}%\")"
   ]
  },
  {
   "cell_type": "code",
   "execution_count": 6,
   "metadata": {},
   "outputs": [],
   "source": [
    "# import pyod.models.iforest\n",
    "\n",
    "# pyod_if = pyod.models.iforest.IForest(n_estimators=100)\n",
    "# pyod_if.fit(X)\n",
    "\n",
    "# auroc = roc_auc_score(y, pyod_if.decision_scores_)\n",
    "# aupr = average_precision_score(y, pyod_if.decision_scores_)\n",
    "\n",
    "# print(\"IForest from PyOD\")\n",
    "# print(\"-----------------\")\n",
    "# print(f\"AUROC = {auroc:.4f}\")\n",
    "# print(f\"AUPR: {aupr:.4f}\")"
   ]
  },
  {
   "cell_type": "code",
   "execution_count": 7,
   "metadata": {},
   "outputs": [],
   "source": [
    "# i_forest = IForest(\n",
    "#     contamination=contamination,\n",
    "# )\n",
    "\n",
    "# start = time.time()\n",
    "# i_forest.fit(X)\n",
    "# end = time.time()\n",
    "\n",
    "# auroc = roc_auc_score(y, i_forest.decision_scores)\n",
    "# aupr = average_precision_score(y, i_forest.decision_scores)\n",
    "# time_to_run = end - start\n",
    "\n",
    "# print(\"IF:\")\n",
    "# print(\"--------\")\n",
    "# print(f\"AUROC: {auroc:.4f}\")\n",
    "# print(f\"AUPR: {aupr:.4f}\")\n",
    "# print(f\"Time: {time_to_run:.4f}\")"
   ]
  },
  {
   "cell_type": "code",
   "execution_count": 8,
   "metadata": {},
   "outputs": [],
   "source": [
    "# ei_forest = EIForest(\n",
    "#     contamination=contamination,\n",
    "# )\n",
    "\n",
    "# start = time.time()\n",
    "# ei_forest.fit(X)\n",
    "# end = time.time()\n",
    "\n",
    "# auroc = roc_auc_score(y, ei_forest.decision_scores)\n",
    "# aupr = average_precision_score(y, ei_forest.decision_scores)\n",
    "# time_to_run = end - start\n",
    "\n",
    "# print(\"EIF:\")\n",
    "# print(\"--------\")\n",
    "# print(f\"AUROC: {auroc:.4f}\")\n",
    "# print(f\"AUPR: {aupr:.4f}\")\n",
    "# print(f\"Time: {time_to_run:.4f}\")"
   ]
  },
  {
   "cell_type": "code",
   "execution_count": null,
   "metadata": {},
   "outputs": [],
   "source": [
    "# sci_forest = SCIForest(\n",
    "#     n_trees=200,\n",
    "#     contamination=contamination,\n",
    "# )\n",
    "\n",
    "# start = time.time()\n",
    "# sci_forest.fit(X)\n",
    "# end = time.time()\n",
    "\n",
    "# auroc = roc_auc_score(y, sci_forest.decision_scores)\n",
    "# aupr = average_precision_score(y, sci_forest.decision_scores)\n",
    "# time_to_run = end - start\n",
    "\n",
    "# print(\"SCIF:\")\n",
    "# print(\"--------\")\n",
    "# print(f\"AUROC: {auroc:.4f}\")\n",
    "# print(f\"AUPR: {aupr:.4f}\")\n",
    "# print(f\"Time: {time_to_run:.4f}\")"
   ]
  },
  {
   "cell_type": "code",
   "execution_count": null,
   "metadata": {},
   "outputs": [],
   "source": [
    "fc_forest = FCForest(\n",
    "    n_trees=200,\n",
    "    contamination=contamination,    \n",
    "    # height_limit=X.shape[0]\n",
    ")\n",
    "\n",
    "start = time.time()\n",
    "fc_forest.fit(X)\n",
    "end = time.time()\n",
    "\n",
    "auroc = roc_auc_score(y, fc_forest.decision_scores)\n",
    "aupr = average_precision_score(y, fc_forest.decision_scores)\n",
    "time_to_run = end - start\n",
    "\n",
    "print(\"FCF:\")\n",
    "print(\"--------\")\n",
    "print(f\"AUROC: {auroc:.4f}\")\n",
    "print(f\"AUPR: {aupr:.4f}\")\n",
    "print(f\"Time: {time_to_run:.4f}\")"
   ]
  },
  {
   "cell_type": "code",
   "execution_count": null,
   "metadata": {},
   "outputs": [],
   "source": [
    "x = np.array([[1, 2, 3], [4, 5, 6]])\n",
    "\n",
    "coeffs = np.random.uniform()\n",
    "np.apply_along_axis(lambda col: len(np.unique(col)) == 1, axis=0, arr=x)"
   ]
  }
 ],
 "metadata": {
  "kernelspec": {
   "display_name": "Python 3",
   "language": "python",
   "name": "python3"
  },
  "language_info": {
   "codemirror_mode": {
    "name": "ipython",
    "version": 3
   },
   "file_extension": ".py",
   "mimetype": "text/x-python",
   "name": "python",
   "nbconvert_exporter": "python",
   "pygments_lexer": "ipython3",
   "version": "3.11.2"
  }
 },
 "nbformat": 4,
 "nbformat_minor": 2
}
