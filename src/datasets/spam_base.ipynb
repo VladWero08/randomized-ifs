{
 "cells": [
  {
   "cell_type": "code",
   "execution_count": 19,
   "metadata": {},
   "outputs": [],
   "source": [
    "import sys\n",
    "import os\n",
    "\n",
    "# import parent directory\n",
    "sys.path.append(os.path.abspath(os.path.join(os.getcwd(), \"..\")))"
   ]
  },
  {
   "cell_type": "code",
   "execution_count": 20,
   "metadata": {},
   "outputs": [],
   "source": [
    "import time\n",
    "import numpy as np\n",
    "\n",
    "from ucimlrepo import fetch_ucirepo \n",
    "from sklearn.metrics import roc_auc_score, average_precision_score\n",
    "\n",
    "from forests.i_forest import IForest\n",
    "from forests.ei_forest import EIForest\n",
    "from forests.sci_forest import SCIForest\n",
    "from forests.fc_forest import FCForest\n",
    "from forests.rrc_forest import RRCForest\n",
    "\n",
    "from pyod.models.ocsvm import OCSVM\n",
    "from pyod.models.dif import DIF\n",
    "from pyod.models.lof import LOF"
   ]
  },
  {
   "cell_type": "code",
   "execution_count": 21,
   "metadata": {},
   "outputs": [],
   "source": [
    "# fetch the dataset, where the \n",
    "# outliers are labeled with 1\n",
    "# inliers are labeld with 0\n",
    "spam_base = fetch_ucirepo(id=94) "
   ]
  },
  {
   "cell_type": "code",
   "execution_count": 22,
   "metadata": {},
   "outputs": [
    {
     "name": "stdout",
     "output_type": "stream",
     "text": [
      "Contamination rate: 0.394%\n"
     ]
    }
   ],
   "source": [
    "# get the data and standardize it\n",
    "X = spam_base.data.features.to_numpy() \n",
    "X = (X - np.mean(X, axis=0)) / np.std(X, axis=0)\n",
    "\n",
    "# get the labels\n",
    "y = spam_base.data.targets.to_numpy()\n",
    "y = y.reshape(-1)\n",
    "\n",
    "# compute the contamination rate\n",
    "contamination = np.round(np.sum(y == 1) / y.shape[0], 4)\n",
    "print(f\"Contamination rate: {contamination}%\")"
   ]
  },
  {
   "cell_type": "code",
   "execution_count": 23,
   "metadata": {},
   "outputs": [],
   "source": [
    "iforest_params = {\n",
    "    \"n_trees\": 100,\n",
    "    \"sub_sample_size\": 256,\n",
    "    \"contamination\": contamination,\n",
    "}\n",
    "\n",
    "fcf_params = {\n",
    "    \"n_trees\": 200,\n",
    "    \"sub_sample_size\": 256,\n",
    "    \"height_limit\": 256,\n",
    "    \"contamination\": contamination\n",
    "}\n",
    "\n",
    "seeds = [42, 123, 456, 789, 1500, 1597, 3141, 4000, 5000, 10007]"
   ]
  },
  {
   "cell_type": "code",
   "execution_count": 6,
   "metadata": {},
   "outputs": [],
   "source": [
    "def run_forest(\n",
    "    forest_method: IForest | EIForest | SCIForest | FCForest | RRCForest,\n",
    "    args: dict\n",
    ") -> tuple:\n",
    "    aurocs = []\n",
    "    auprs = []\n",
    "    times = []\n",
    "\n",
    "    for seed in seeds:\n",
    "        args_with_seed = {**args, \"seed\": seed}\n",
    "        forest = forest_method(**args_with_seed)\n",
    "\n",
    "        start = time.time()\n",
    "        forest.fit(X)\n",
    "        end = time.time()\n",
    "\n",
    "        auroc = roc_auc_score(y, forest.decision_scores)\n",
    "        aupr = average_precision_score(y, forest.decision_scores)\n",
    "        time_to_run = end - start\n",
    "\n",
    "        aurocs.append(auroc)\n",
    "        auprs.append(aupr)\n",
    "        times.append(time_to_run)\n",
    "        \n",
    "    return np.array(aurocs), np.array(auprs), np.array(times)"
   ]
  },
  {
   "cell_type": "code",
   "execution_count": 8,
   "metadata": {},
   "outputs": [
    {
     "name": "stdout",
     "output_type": "stream",
     "text": [
      "IForest:\n",
      "--------\n",
      "AUROC 0.6137\n",
      "AUPR 0.4726\n",
      "Time 4.5179s\n"
     ]
    }
   ],
   "source": [
    "if_aurocs, if_auprs, if_times = run_forest(IForest, iforest_params)\n",
    "\n",
    "print(\"IForest:\")\n",
    "print(\"--------\")\n",
    "print(f\"AUROC {np.mean(if_aurocs):.4f}\")\n",
    "print(f\"AUPR {np.mean(if_auprs):.4f}\")\n",
    "print(f\"Time {np.mean(if_times):.4f}s\")"
   ]
  },
  {
   "cell_type": "code",
   "execution_count": 9,
   "metadata": {},
   "outputs": [
    {
     "name": "stdout",
     "output_type": "stream",
     "text": [
      "IForest-U:\n",
      "--------\n",
      "AUROC 0.6740\n",
      "AUPR 0.5124\n",
      "Time 23.5158s\n"
     ]
    }
   ],
   "source": [
    "if_aurocs, if_auprs, if_times = run_forest(IForest, fcf_params)\n",
    "\n",
    "print(\"IForest-U:\")\n",
    "print(\"--------\")\n",
    "print(f\"AUROC {np.mean(if_aurocs):.4f}\")\n",
    "print(f\"AUPR {np.mean(if_auprs):.4f}\")\n",
    "print(f\"Time {np.mean(if_times):.4f}s\")"
   ]
  },
  {
   "cell_type": "code",
   "execution_count": 10,
   "metadata": {},
   "outputs": [
    {
     "name": "stdout",
     "output_type": "stream",
     "text": [
      "EIForest:\n",
      "--------\n",
      "AUROC 0.5660\n",
      "AUPR 0.4291\n",
      "Time 10.3861s\n"
     ]
    }
   ],
   "source": [
    "eif_aurocs, eif_auprs, eif_times = run_forest(EIForest, iforest_params)\n",
    "\n",
    "print(\"EIForest:\")\n",
    "print(\"--------\")\n",
    "print(f\"AUROC {np.mean(eif_aurocs):.4f}\")\n",
    "print(f\"AUPR {np.mean(eif_auprs):.4f}\")\n",
    "print(f\"Time {np.mean(eif_times):.4f}s\")"
   ]
  },
  {
   "cell_type": "code",
   "execution_count": 11,
   "metadata": {},
   "outputs": [
    {
     "name": "stdout",
     "output_type": "stream",
     "text": [
      "EIForest-U:\n",
      "--------\n",
      "AUROC 0.6722\n",
      "AUPR 0.5103\n",
      "Time 103.5736s\n"
     ]
    }
   ],
   "source": [
    "eif_aurocs, eif_auprs, eif_times = run_forest(EIForest, fcf_params)\n",
    "\n",
    "print(\"EIForest-U:\")\n",
    "print(\"--------\")\n",
    "print(f\"AUROC {np.mean(eif_aurocs):.4f}\")\n",
    "print(f\"AUPR {np.mean(eif_auprs):.4f}\")\n",
    "print(f\"Time {np.mean(eif_times):.4f}s\")"
   ]
  },
  {
   "cell_type": "code",
   "execution_count": 12,
   "metadata": {},
   "outputs": [
    {
     "name": "stdout",
     "output_type": "stream",
     "text": [
      "SCIForest:\n",
      "--------\n",
      "AUROC 0.3593\n",
      "AUPR 0.3405\n",
      "Time 12.7269s\n"
     ]
    }
   ],
   "source": [
    "scif_aurocs, scif_auprs, scif_times = run_forest(SCIForest, iforest_params)\n",
    "\n",
    "print(\"SCIForest:\")\n",
    "print(\"--------\")\n",
    "print(f\"AUROC {np.mean(scif_aurocs):.4f}\")\n",
    "print(f\"AUPR {np.mean(scif_auprs):.4f}\")\n",
    "print(f\"Time {np.mean(scif_times):.4f}s\")"
   ]
  },
  {
   "cell_type": "code",
   "execution_count": 13,
   "metadata": {},
   "outputs": [
    {
     "name": "stdout",
     "output_type": "stream",
     "text": [
      "SCIForest-U:\n",
      "--------\n",
      "AUROC 0.4246\n",
      "AUPR 0.3426\n",
      "Time 254.8088s\n"
     ]
    }
   ],
   "source": [
    "scif_aurocs, scif_auprs, scif_times = run_forest(SCIForest, fcf_params)\n",
    "\n",
    "print(\"SCIForest-U:\")\n",
    "print(\"--------\")\n",
    "print(f\"AUROC {np.mean(scif_aurocs):.4f}\")\n",
    "print(f\"AUPR {np.mean(scif_auprs):.4f}\")\n",
    "print(f\"Time {np.mean(scif_times):.4f}s\")"
   ]
  },
  {
   "cell_type": "code",
   "execution_count": 14,
   "metadata": {},
   "outputs": [
    {
     "name": "stdout",
     "output_type": "stream",
     "text": [
      "FCForest:\n",
      "--------\n",
      "AUROC 0.6844\n",
      "AUPR 0.5529\n",
      "Time 78.7472s\n",
      "[0.65613295 0.68533026 0.73353573 0.64634839 0.67485237 0.67078601\n",
      " 0.69700438 0.70243889 0.70262129 0.67490866]\n"
     ]
    }
   ],
   "source": [
    "fcf_aurocs, fcf_auprs, fcf_times = run_forest(FCForest, fcf_params)\n",
    "\n",
    "print(\"FCForest:\")\n",
    "print(\"--------\")\n",
    "print(f\"AUROC {np.mean(fcf_aurocs):.4f}\")\n",
    "print(f\"AUPR {np.mean(fcf_auprs):.4f}\")\n",
    "print(f\"Time {np.mean(fcf_times):.4f}s\")"
   ]
  },
  {
   "cell_type": "code",
   "execution_count": 10,
   "metadata": {},
   "outputs": [
    {
     "name": "stdout",
     "output_type": "stream",
     "text": [
      "OCSVM:\n",
      "--------\n",
      "AUROC: 0.5369\n",
      "AUPR: 0.3990\n",
      "Time: 1.9410\n"
     ]
    }
   ],
   "source": [
    "ocsvm_ = OCSVM(kernel=\"rbf\", contamination=contamination)\n",
    "ocsvm_.fit(X)\n",
    "\n",
    "start = time.time()\n",
    "ocsvm_.fit(X)\n",
    "end = time.time()\n",
    "\n",
    "auroc = roc_auc_score(y, ocsvm_.decision_scores_)\n",
    "aupr = average_precision_score(y, ocsvm_.decision_scores_)\n",
    "time_to_run = end - start\n",
    "\n",
    "print(\"OCSVM:\")\n",
    "print(\"--------\")\n",
    "print(f\"AUROC: {auroc:.4f}\")\n",
    "print(f\"AUPR: {aupr:.4f}\")\n",
    "print(f\"Time: {time_to_run:.4f}\")\n"
   ]
  },
  {
   "cell_type": "code",
   "execution_count": 18,
   "metadata": {},
   "outputs": [
    {
     "name": "stdout",
     "output_type": "stream",
     "text": [
      "DIForest:\n",
      "--------\n",
      "AUROC 0.5143\n",
      "AUPR 0.3671\n",
      "Time 18.1357s\n"
     ]
    }
   ],
   "source": [
    "dif_aurocs, dif_auprs, dif_times = [], [], []\n",
    "\n",
    "for seed in seeds:\n",
    "    dif_ = DIF(\n",
    "        \n",
    "        contamination=contamination, \n",
    "        random_state=seed\n",
    "    )\n",
    "\n",
    "    start = time.time()\n",
    "    dif_.fit(X)\n",
    "    end = time.time()\n",
    "\n",
    "    auroc = roc_auc_score(y, dif_.decision_scores_)\n",
    "    aupr = average_precision_score(y, dif_.decision_scores_)\n",
    "    time_to_run = end - start\n",
    "\n",
    "    dif_aurocs.append(auroc)\n",
    "    dif_auprs.append(aupr)\n",
    "    dif_times.append(time_to_run)\n",
    "\n",
    "dif_aurocs = np.array(dif_aurocs)\n",
    "dif_auprs = np.array(dif_auprs)\n",
    "dif_times = np.array(dif_times)\n",
    "\n",
    "print(\"DIForest:\")\n",
    "print(\"--------\")\n",
    "print(f\"AUROC {np.mean(dif_aurocs):.4f}\")\n",
    "print(f\"AUPR {np.mean(dif_auprs):.4f}\")\n",
    "print(f\"Time {np.mean(dif_times):.4f}s\")\n"
   ]
  },
  {
   "cell_type": "code",
   "execution_count": 24,
   "metadata": {},
   "outputs": [
    {
     "name": "stdout",
     "output_type": "stream",
     "text": [
      "LOF:\n",
      "--------\n",
      "AUROC: 0.4577\n",
      "AUPR: 0.3546\n",
      "Time: 0.2623\n"
     ]
    }
   ],
   "source": [
    "lof_ = LOF(contamination=contamination)\n",
    "\n",
    "start = time.time()\n",
    "lof_.fit(X)\n",
    "end = time.time()\n",
    "\n",
    "auroc = roc_auc_score(y, lof_.decision_scores_)\n",
    "aupr = average_precision_score(y, lof_.decision_scores_)\n",
    "time_to_run = end - start\n",
    "\n",
    "print(\"LOF:\")\n",
    "print(\"--------\")\n",
    "print(f\"AUROC: {auroc:.4f}\")\n",
    "print(f\"AUPR: {aupr:.4f}\")\n",
    "print(f\"Time: {time_to_run:.4f}\")"
   ]
  }
 ],
 "metadata": {
  "kernelspec": {
   "display_name": "Python 3",
   "language": "python",
   "name": "python3"
  },
  "language_info": {
   "codemirror_mode": {
    "name": "ipython",
    "version": 3
   },
   "file_extension": ".py",
   "mimetype": "text/x-python",
   "name": "python",
   "nbconvert_exporter": "python",
   "pygments_lexer": "ipython3",
   "version": "3.11.2"
  }
 },
 "nbformat": 4,
 "nbformat_minor": 2
}
