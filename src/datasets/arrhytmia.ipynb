{
 "cells": [
  {
   "cell_type": "code",
   "execution_count": 1,
   "metadata": {},
   "outputs": [],
   "source": [
    "import sys\n",
    "import os\n",
    "\n",
    "# import parent directory\n",
    "sys.path.append(os.path.abspath(os.path.join(os.getcwd(), \"..\")))"
   ]
  },
  {
   "cell_type": "code",
   "execution_count": 2,
   "metadata": {},
   "outputs": [],
   "source": [
    "import time\n",
    "import numpy as np\n",
    "import pandas as pd\n",
    "import zipfile\n",
    "\n",
    "from ucimlrepo import fetch_ucirepo \n",
    "from sklearn.metrics import roc_auc_score, average_precision_score\n",
    "\n",
    "from forests.i_forest import IForest\n",
    "from forests.ei_forest import EIForest\n",
    "from forests.sci_forest import SCIForest\n",
    "from forests.fc_forest import FCForest\n",
    "from forests.rrc_forest import RRCForest\n",
    "\n",
    "from pyod.models.ocsvm import OCSVM\n",
    "from pyod.models.dif import DIF"
   ]
  },
  {
   "cell_type": "code",
   "execution_count": 3,
   "metadata": {},
   "outputs": [],
   "source": [
    "with zipfile.ZipFile(\"./zip/arrhythmia.zip\", \"r\") as zip_f:\n",
    "    zip_f.extractall(\"./zip/arrhythmia\")"
   ]
  },
  {
   "cell_type": "code",
   "execution_count": 13,
   "metadata": {},
   "outputs": [],
   "source": [
    "df = pd.read_csv(\"./zip/arrhythmia/arrhythmia.data\", header=None)\n",
    "df = df.replace(\"?\", 0)\n",
    "df = df.to_numpy()"
   ]
  },
  {
   "cell_type": "code",
   "execution_count": 14,
   "metadata": {},
   "outputs": [
    {
     "name": "stderr",
     "output_type": "stream",
     "text": [
      "C:\\Users\\Vlad Wero\\AppData\\Local\\Temp\\ipykernel_23872\\3450813842.py:3: RuntimeWarning: invalid value encountered in divide\n",
      "  X = (X - np.mean(X, axis=0)) / np.std(X, axis=0)\n"
     ]
    }
   ],
   "source": [
    "# get the data and standardize it\n",
    "X = df[:, :-1].astype(np.float32)\n",
    "X_mask = np.array([len(np.unique(X[:, i])) > 1 for i in range(X.shape[1])])\n",
    "X = X[:, X_mask]\n",
    "X = (X - np.mean(X, axis=0)) / np.std(X, axis=0)\n",
    "\n",
    "# get the labels\n",
    "y = df[:, -1].astype(int)"
   ]
  },
  {
   "cell_type": "code",
   "execution_count": 33,
   "metadata": {},
   "outputs": [
    {
     "name": "stdout",
     "output_type": "stream",
     "text": [
      "Class percentage: [0.         0.5420354  0.09734513 0.03318584 0.03318584 0.02876106\n",
      " 0.05530973 0.00663717 0.00442478 0.0199115  0.11061947 0.\n",
      " 0.         0.         0.00884956 0.01106195 0.04867257]\n"
     ]
    }
   ],
   "source": [
    "# get the percentage of each class in the dataset\n",
    "y_bins_norm = np.bincount(y) / y.shape[0]\n",
    "print(f\"Class percentage: {y_bins_norm}\")\n",
    "\n",
    "# sort the classes by their percentage\n",
    "y_bins_norm_sorted = np.sort(y_bins_norm)\n",
    "y_bins_norm_sorted_idx = np.argsort(y_bins_norm)\n",
    "\n",
    "# compute the cumulative sum of the distribution percentage\n",
    "y_bins_cum_sum = np.cumsum(y_bins_norm_sorted)"
   ]
  },
  {
   "cell_type": "code",
   "execution_count": 34,
   "metadata": {},
   "outputs": [
    {
     "name": "stdout",
     "output_type": "stream",
     "text": [
      "Classes used for outliers: [ 0 13 12 11  8  7 14 15  9  5  3  4]\n",
      "Classes used for inliers: [16  6  2 10  1]\n"
     ]
    }
   ],
   "source": [
    "target = 0.15\n",
    "i = 0\n",
    "\n",
    "while y_bins_cum_sum[i] < target:\n",
    "    i += 1\n",
    "\n",
    "y_outliers = y_bins_norm_sorted_idx[:i]\n",
    "y_inliers = y_bins_norm_sorted_idx[i:]\n",
    "\n",
    "print(f\"Classes used for outliers: {y_outliers}\")\n",
    "print(f\"Classes used for inliers: {y_inliers}\")"
   ]
  },
  {
   "cell_type": "code",
   "execution_count": 35,
   "metadata": {},
   "outputs": [
    {
     "name": "stdout",
     "output_type": "stream",
     "text": [
      "Contamination rate: 0.146%\n"
     ]
    }
   ],
   "source": [
    "for i, cls in enumerate(y):\n",
    "    if cls in y_inliers:\n",
    "        y[i] = 0\n",
    "    else:\n",
    "        y[i] = 1 \n",
    "\n",
    "# compute the contamination rate\n",
    "contamination = np.round(np.sum(y == 1) / y.shape[0], 4)\n",
    "print(f\"Contamination rate: {contamination}%\")"
   ]
  }
 ],
 "metadata": {
  "kernelspec": {
   "display_name": "Python 3",
   "language": "python",
   "name": "python3"
  },
  "language_info": {
   "codemirror_mode": {
    "name": "ipython",
    "version": 3
   },
   "file_extension": ".py",
   "mimetype": "text/x-python",
   "name": "python",
   "nbconvert_exporter": "python",
   "pygments_lexer": "ipython3",
   "version": "3.11.2"
  }
 },
 "nbformat": 4,
 "nbformat_minor": 2
}
