{
 "cells": [
  {
   "cell_type": "code",
   "execution_count": 1,
   "metadata": {},
   "outputs": [],
   "source": [
    "import sys\n",
    "import os\n",
    "\n",
    "# import parent directory\n",
    "sys.path.append(os.path.abspath(os.path.join(os.getcwd(), \"..\")))"
   ]
  },
  {
   "cell_type": "code",
   "execution_count": 2,
   "metadata": {},
   "outputs": [],
   "source": [
    "import time\n",
    "import numpy as np\n",
    "import pandas as pd\n",
    "import zipfile\n",
    "\n",
    "from ucimlrepo import fetch_ucirepo \n",
    "from sklearn.metrics import roc_auc_score, average_precision_score\n",
    "\n",
    "from forests.i_forest import IForest\n",
    "from forests.ei_forest import EIForest\n",
    "from forests.sci_forest import SCIForest\n",
    "from forests.fc_forest import FCForest\n",
    "from forests.rrc_forest import RRCForest\n",
    "\n",
    "from pyod.models.ocsvm import OCSVM\n",
    "from pyod.models.dif import DIF\n",
    "from pyod.models.lof import LOF"
   ]
  },
  {
   "cell_type": "code",
   "execution_count": 3,
   "metadata": {},
   "outputs": [],
   "source": [
    "with zipfile.ZipFile(\"./zip/arrhythmia.zip\", \"r\") as zip_f:\n",
    "    zip_f.extractall(\"./zip/arrhythmia\")"
   ]
  },
  {
   "cell_type": "code",
   "execution_count": 4,
   "metadata": {},
   "outputs": [],
   "source": [
    "df = pd.read_csv(\"./zip/arrhythmia/arrhythmia.data\", header=None)\n",
    "df = df.replace(\"?\", 0)\n",
    "df = df.to_numpy()"
   ]
  },
  {
   "cell_type": "code",
   "execution_count": 5,
   "metadata": {},
   "outputs": [],
   "source": [
    "# get the data and standardize it\n",
    "X = df[:, :-1].astype(np.float32)\n",
    "X_mask = np.array([len(np.unique(X[:, i])) > 1 for i in range(X.shape[1])])\n",
    "X = X[:, X_mask]\n",
    "X = (X - np.mean(X, axis=0)) / np.std(X, axis=0)\n",
    "\n",
    "# get the labels\n",
    "y = df[:, -1].astype(int)"
   ]
  },
  {
   "cell_type": "code",
   "execution_count": 6,
   "metadata": {},
   "outputs": [
    {
     "name": "stdout",
     "output_type": "stream",
     "text": [
      "Class percentage: [0.         0.5420354  0.09734513 0.03318584 0.03318584 0.02876106\n",
      " 0.05530973 0.00663717 0.00442478 0.0199115  0.11061947 0.\n",
      " 0.         0.         0.00884956 0.01106195 0.04867257]\n"
     ]
    }
   ],
   "source": [
    "# get the percentage of each class in the dataset\n",
    "y_bins_norm = np.bincount(y) / y.shape[0]\n",
    "print(f\"Class percentage: {y_bins_norm}\")\n",
    "\n",
    "# sort the classes by their percentage\n",
    "y_bins_norm_sorted = np.sort(y_bins_norm)\n",
    "y_bins_norm_sorted_idx = np.argsort(y_bins_norm)\n",
    "\n",
    "# compute the cumulative sum of the distribution percentage\n",
    "y_bins_cum_sum = np.cumsum(y_bins_norm_sorted)"
   ]
  },
  {
   "cell_type": "code",
   "execution_count": 7,
   "metadata": {},
   "outputs": [
    {
     "name": "stdout",
     "output_type": "stream",
     "text": [
      "Classes used for outliers: [ 0 13 12 11  8  7 14 15  9  5  3  4]\n",
      "Classes used for inliers: [16  6  2 10  1]\n"
     ]
    }
   ],
   "source": [
    "target = 0.15\n",
    "i = 0\n",
    "\n",
    "while y_bins_cum_sum[i] < target:\n",
    "    i += 1\n",
    "\n",
    "y_outliers = y_bins_norm_sorted_idx[:i]\n",
    "y_inliers = y_bins_norm_sorted_idx[i:]\n",
    "\n",
    "print(f\"Classes used for outliers: {y_outliers}\")\n",
    "print(f\"Classes used for inliers: {y_inliers}\")"
   ]
  },
  {
   "cell_type": "code",
   "execution_count": 8,
   "metadata": {},
   "outputs": [
    {
     "name": "stdout",
     "output_type": "stream",
     "text": [
      "Contamination rate: 0.146%\n"
     ]
    }
   ],
   "source": [
    "for i, cls in enumerate(y):\n",
    "    if cls in y_inliers:\n",
    "        y[i] = 0\n",
    "    else:\n",
    "        y[i] = 1 \n",
    "\n",
    "# compute the contamination rate\n",
    "contamination = np.round(np.sum(y == 1) / y.shape[0], 4)\n",
    "print(f\"Contamination rate: {contamination}%\")"
   ]
  },
  {
   "cell_type": "code",
   "execution_count": 9,
   "metadata": {},
   "outputs": [],
   "source": [
    "iforest_params = {\n",
    "    \"n_trees\": 100,\n",
    "    \"sub_sample_size\": 256,\n",
    "    \"contamination\": contamination,\n",
    "}\n",
    "\n",
    "fcf_params = {\n",
    "    \"n_trees\": 200,\n",
    "    \"sub_sample_size\": 256,\n",
    "    \"height_limit\": 256,\n",
    "    \"contamination\": contamination\n",
    "}\n",
    "\n",
    "seeds = [42, 123, 456, 789, 1500, 1597, 3141, 4000, 5000, 10007]"
   ]
  },
  {
   "cell_type": "code",
   "execution_count": 10,
   "metadata": {},
   "outputs": [],
   "source": [
    "def run_forest(\n",
    "    forest_method: IForest | EIForest | SCIForest | FCForest | RRCForest,\n",
    "    args: dict\n",
    ") -> tuple:\n",
    "    aurocs = []\n",
    "    auprs = []\n",
    "    times = []\n",
    "\n",
    "    for seed in seeds:\n",
    "        args_with_seed = {**args, \"seed\": seed}\n",
    "        forest = forest_method(**args_with_seed)\n",
    "\n",
    "        start = time.time()\n",
    "        forest.fit(X)\n",
    "        end = time.time()\n",
    "\n",
    "        auroc = roc_auc_score(y, forest.decision_scores)\n",
    "        aupr = average_precision_score(y, forest.decision_scores)\n",
    "        time_to_run = end - start\n",
    "\n",
    "        aurocs.append(auroc)\n",
    "        auprs.append(aupr)\n",
    "        times.append(time_to_run)\n",
    "        \n",
    "    return np.array(aurocs), np.array(auprs), np.array(times)"
   ]
  },
  {
   "cell_type": "code",
   "execution_count": 12,
   "metadata": {},
   "outputs": [
    {
     "name": "stdout",
     "output_type": "stream",
     "text": [
      "IForest:\n",
      "--------\n",
      "AUROC 0.7115\n",
      "AUPR 0.3268\n",
      "Time 1.6867s\n"
     ]
    }
   ],
   "source": [
    "if_aurocs, if_auprs, if_times = run_forest(IForest, iforest_params)\n",
    "\n",
    "print(\"IForest:\")\n",
    "print(\"--------\")\n",
    "print(f\"AUROC {np.mean(if_aurocs):.4f}\")\n",
    "print(f\"AUPR {np.mean(if_auprs):.4f}\")\n",
    "print(f\"Time {np.mean(if_times):.4f}s\")"
   ]
  },
  {
   "cell_type": "code",
   "execution_count": 12,
   "metadata": {},
   "outputs": [
    {
     "name": "stdout",
     "output_type": "stream",
     "text": [
      "IForest-U:\n",
      "--------\n",
      "AUROC 0.7658\n",
      "AUPR 0.3994\n",
      "Time 7.3050s\n"
     ]
    }
   ],
   "source": [
    "if_aurocs, if_auprs, if_times = run_forest(IForest, fcf_params)\n",
    "\n",
    "print(\"IForest-U:\")\n",
    "print(\"--------\")\n",
    "print(f\"AUROC {np.mean(if_aurocs):.4f}\")\n",
    "print(f\"AUPR {np.mean(if_auprs):.4f}\")\n",
    "print(f\"Time {np.mean(if_times):.4f}s\")"
   ]
  },
  {
   "cell_type": "code",
   "execution_count": 13,
   "metadata": {},
   "outputs": [
    {
     "name": "stdout",
     "output_type": "stream",
     "text": [
      "EIForest:\n",
      "--------\n",
      "AUROC 0.7071\n",
      "AUPR 0.3205\n",
      "Time 3.1947s\n"
     ]
    }
   ],
   "source": [
    "eif_aurocs, eif_auprs, eif_times = run_forest(EIForest, iforest_params)\n",
    "\n",
    "print(\"EIForest:\")\n",
    "print(\"--------\")\n",
    "print(f\"AUROC {np.mean(eif_aurocs):.4f}\")\n",
    "print(f\"AUPR {np.mean(eif_auprs):.4f}\")\n",
    "print(f\"Time {np.mean(eif_times):.4f}s\")"
   ]
  },
  {
   "cell_type": "code",
   "execution_count": 14,
   "metadata": {},
   "outputs": [
    {
     "name": "stdout",
     "output_type": "stream",
     "text": [
      "EIForest-U:\n",
      "--------\n",
      "AUROC 0.7821\n",
      "AUPR 0.4252\n",
      "Time 12.4911s\n"
     ]
    }
   ],
   "source": [
    "eif_aurocs, eif_auprs, eif_times = run_forest(EIForest, fcf_params)\n",
    "\n",
    "print(\"EIForest-U:\")\n",
    "print(\"--------\")\n",
    "print(f\"AUROC {np.mean(eif_aurocs):.4f}\")\n",
    "print(f\"AUPR {np.mean(eif_auprs):.4f}\")\n",
    "print(f\"Time {np.mean(eif_times):.4f}s\")"
   ]
  },
  {
   "cell_type": "code",
   "execution_count": 15,
   "metadata": {},
   "outputs": [
    {
     "name": "stdout",
     "output_type": "stream",
     "text": [
      "SCIForest:\n",
      "--------\n",
      "AUROC 0.6672\n",
      "AUPR 0.2855\n",
      "Time 10.8679s\n"
     ]
    }
   ],
   "source": [
    "scif_aurocs, scif_auprs, scif_times = run_forest(SCIForest, iforest_params)\n",
    "\n",
    "print(\"SCIForest:\")\n",
    "print(\"--------\")\n",
    "print(f\"AUROC {np.mean(scif_aurocs):.4f}\")\n",
    "print(f\"AUPR {np.mean(scif_auprs):.4f}\")\n",
    "print(f\"Time {np.mean(scif_times):.4f}s\")"
   ]
  },
  {
   "cell_type": "code",
   "execution_count": null,
   "metadata": {},
   "outputs": [],
   "source": [
    "scif_aurocs, scif_auprs, scif_times = run_forest(SCIForest, fcf_params)\n",
    "\n",
    "print(\"SCIForest-U:\")\n",
    "print(\"--------\")\n",
    "print(f\"AUROC {np.mean(scif_aurocs):.4f}\")\n",
    "print(f\"AUPR {np.mean(scif_auprs):.4f}\")\n",
    "print(f\"Time {np.mean(scif_times):.4f}s\")"
   ]
  },
  {
   "cell_type": "code",
   "execution_count": 12,
   "metadata": {},
   "outputs": [
    {
     "name": "stdout",
     "output_type": "stream",
     "text": [
      "FCForest:\n",
      "--------\n",
      "AUROC 0.7184\n",
      "AUPR 0.3632\n",
      "Time 85.5051s\n"
     ]
    }
   ],
   "source": [
    "fcf_aurocs, fcf_auprs, fcf_times = run_forest(FCForest, fcf_params)\n",
    "\n",
    "print(\"FCForest:\")\n",
    "print(\"--------\")\n",
    "print(f\"AUROC {np.mean(fcf_aurocs):.4f}\")\n",
    "print(f\"AUPR {np.mean(fcf_auprs):.4f}\")\n",
    "print(f\"Time {np.mean(fcf_times):.4f}s\")"
   ]
  },
  {
   "cell_type": "code",
   "execution_count": 17,
   "metadata": {},
   "outputs": [
    {
     "name": "stdout",
     "output_type": "stream",
     "text": [
      "OCSVM:\n",
      "--------\n",
      "AUROC: 0.7776\n",
      "AUPR: 0.3927\n",
      "Time: 0.0321\n"
     ]
    }
   ],
   "source": [
    "ocsvm_ = OCSVM(kernel=\"rbf\", contamination=contamination)\n",
    "\n",
    "start = time.time()\n",
    "ocsvm_.fit(X)\n",
    "end = time.time()\n",
    "\n",
    "auroc = roc_auc_score(y, ocsvm_.decision_scores_)\n",
    "aupr = average_precision_score(y, ocsvm_.decision_scores_)\n",
    "time_to_run = end - start\n",
    "\n",
    "print(\"OCSVM:\")\n",
    "print(\"--------\")\n",
    "print(f\"AUROC: {auroc:.4f}\")\n",
    "print(f\"AUPR: {aupr:.4f}\")\n",
    "print(f\"Time: {time_to_run:.4f}\")"
   ]
  },
  {
   "cell_type": "code",
   "execution_count": 18,
   "metadata": {},
   "outputs": [
    {
     "name": "stdout",
     "output_type": "stream",
     "text": [
      "DIForest:\n",
      "--------\n",
      "AUROC 0.7869\n",
      "AUPR 0.4219\n",
      "Time 2.3940s\n"
     ]
    }
   ],
   "source": [
    "dif_aurocs, dif_auprs, dif_times = [], [], []\n",
    "\n",
    "for seed in seeds:\n",
    "    dif_ = DIF(\n",
    "        \n",
    "        contamination=contamination, \n",
    "        random_state=seed\n",
    "    )\n",
    "\n",
    "    start = time.time()\n",
    "    dif_.fit(X)\n",
    "    end = time.time()\n",
    "\n",
    "    auroc = roc_auc_score(y, dif_.decision_scores_)\n",
    "    aupr = average_precision_score(y, dif_.decision_scores_)\n",
    "    time_to_run = end - start\n",
    "\n",
    "    dif_aurocs.append(auroc)\n",
    "    dif_auprs.append(aupr)\n",
    "    dif_times.append(time_to_run)\n",
    "\n",
    "dif_aurocs = np.array(dif_aurocs)\n",
    "dif_auprs = np.array(dif_auprs)\n",
    "dif_times = np.array(dif_times)\n",
    "\n",
    "print(\"DIForest:\")\n",
    "print(\"--------\")\n",
    "print(f\"AUROC {np.mean(dif_aurocs):.4f}\")\n",
    "print(f\"AUPR {np.mean(dif_auprs):.4f}\")\n",
    "print(f\"Time {np.mean(dif_times):.4f}s\")\n"
   ]
  },
  {
   "cell_type": "code",
   "execution_count": 15,
   "metadata": {},
   "outputs": [
    {
     "name": "stdout",
     "output_type": "stream",
     "text": [
      "LOF:\n",
      "--------\n",
      "AUROC: 0.7640\n",
      "AUPR: 0.3354\n",
      "Time: 0.0230\n"
     ]
    }
   ],
   "source": [
    "lof_ = LOF(contamination=contamination)\n",
    "\n",
    "start = time.time()\n",
    "lof_.fit(X)\n",
    "end = time.time()\n",
    "\n",
    "auroc = roc_auc_score(y, lof_.decision_scores_)\n",
    "aupr = average_precision_score(y, lof_.decision_scores_)\n",
    "time_to_run = end - start\n",
    "\n",
    "print(\"LOF:\")\n",
    "print(\"--------\")\n",
    "print(f\"AUROC: {auroc:.4f}\")\n",
    "print(f\"AUPR: {aupr:.4f}\")\n",
    "print(f\"Time: {time_to_run:.4f}\")"
   ]
  }
 ],
 "metadata": {
  "kernelspec": {
   "display_name": "Python 3",
   "language": "python",
   "name": "python3"
  },
  "language_info": {
   "codemirror_mode": {
    "name": "ipython",
    "version": 3
   },
   "file_extension": ".py",
   "mimetype": "text/x-python",
   "name": "python",
   "nbconvert_exporter": "python",
   "pygments_lexer": "ipython3",
   "version": "3.11.2"
  }
 },
 "nbformat": 4,
 "nbformat_minor": 2
}
