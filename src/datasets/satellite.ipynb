{
 "cells": [
  {
   "cell_type": "code",
   "execution_count": 1,
   "metadata": {},
   "outputs": [],
   "source": [
    "import sys\n",
    "import os\n",
    "\n",
    "# import parent directory\n",
    "sys.path.append(os.path.abspath(os.path.join(os.getcwd(), \"..\")))"
   ]
  },
  {
   "cell_type": "code",
   "execution_count": 70,
   "metadata": {},
   "outputs": [],
   "source": [
    "import time\n",
    "import numpy as np\n",
    "\n",
    "from ucimlrepo import fetch_ucirepo \n",
    "from sklearn.metrics import roc_auc_score, average_precision_score\n",
    "\n",
    "from forests.i_forest import IForest\n",
    "from forests.ei_forest import EIForest\n",
    "from forests.sci_forest import SCIForest\n",
    "from forests.fc_forest import FCForest\n",
    "from forests.rrc_forest import RRCForest\n",
    "\n",
    "from pyod.models.ocsvm import OCSVM\n",
    "from pyod.models.dif import DIF"
   ]
  },
  {
   "cell_type": "code",
   "execution_count": 54,
   "metadata": {},
   "outputs": [],
   "source": [
    "# fetch the dataset\n",
    "statlog_landsat_satellite = fetch_ucirepo(id=146) "
   ]
  },
  {
   "cell_type": "code",
   "execution_count": 55,
   "metadata": {},
   "outputs": [],
   "source": [
    "# get the data and standardize it\n",
    "X = statlog_landsat_satellite.data.features.to_numpy()\n",
    "X = (X - np.mean(X, axis=0)) / np.std(X, axis=0)\n",
    "\n",
    "# get the labels\n",
    "y = statlog_landsat_satellite.data.targets.to_numpy()\n",
    "y = y.reshape(-1)"
   ]
  },
  {
   "cell_type": "code",
   "execution_count": 56,
   "metadata": {},
   "outputs": [
    {
     "name": "stdout",
     "output_type": "stream",
     "text": [
      "Class percentage: [0.         0.23822844 0.10924631 0.21103341 0.0972805  0.10986791\n",
      " 0.         0.23434343]\n"
     ]
    }
   ],
   "source": [
    "# get the percentage of each class in the dataset\n",
    "y_bins_norm = np.bincount(y) / y.shape[0]\n",
    "print(f\"Class percentage: {y_bins_norm}\")\n",
    "\n",
    "# sort the classes by their percentage\n",
    "y_bins_norm_sorted = np.sort(y_bins_norm)\n",
    "y_bins_norm_sorted_idx = np.argsort(y_bins_norm)\n",
    "\n",
    "# compute the cumulative sum of the distribution percentage\n",
    "y_bins_cum_sum = np.cumsum(y_bins_norm_sorted)"
   ]
  },
  {
   "cell_type": "code",
   "execution_count": 57,
   "metadata": {},
   "outputs": [
    {
     "name": "stdout",
     "output_type": "stream",
     "text": [
      "Classes used for outliers: [0 6 4 2 5]\n",
      "Classes used for inliers: [3 7 1]\n"
     ]
    }
   ],
   "source": [
    "target = 0.33\n",
    "i = 0\n",
    "\n",
    "while y_bins_cum_sum[i] < target:\n",
    "    i += 1\n",
    "\n",
    "y_outliers = y_bins_norm_sorted_idx[:i]\n",
    "y_inliers = y_bins_norm_sorted_idx[i:]\n",
    "\n",
    "print(f\"Classes used for outliers: {y_outliers}\")\n",
    "print(f\"Classes used for inliers: {y_inliers}\")"
   ]
  },
  {
   "cell_type": "code",
   "execution_count": 58,
   "metadata": {},
   "outputs": [
    {
     "name": "stdout",
     "output_type": "stream",
     "text": [
      "Contamination rate: 0.3164%\n"
     ]
    }
   ],
   "source": [
    "for i, cls in enumerate(y):\n",
    "    if cls in y_inliers:\n",
    "        y[i] = 0\n",
    "    else:\n",
    "        y[i] = 1 \n",
    "\n",
    "# compute the contamination rate\n",
    "contamination = np.round(np.sum(y == 1) / y.shape[0], 4)\n",
    "print(f\"Contamination rate: {contamination}%\")"
   ]
  },
  {
   "cell_type": "code",
   "execution_count": 59,
   "metadata": {},
   "outputs": [],
   "source": [
    "iforest_params = {\n",
    "    \"n_trees\": 100,\n",
    "    \"sub_sample_size\": 256,\n",
    "    \"contamination\": contamination,\n",
    "}\n",
    "\n",
    "fcf_params = {\n",
    "    \"n_trees\": 200,\n",
    "    \"sub_sample_size\": 256,\n",
    "    \"height_limit\": 256,\n",
    "    \"contamination\": contamination\n",
    "}\n",
    "\n",
    "seeds = [42, 123, 456, 789, 1500, 1597, 3141, 4000, 5000, 10007]"
   ]
  },
  {
   "cell_type": "code",
   "execution_count": 60,
   "metadata": {},
   "outputs": [],
   "source": [
    "def run_forest(\n",
    "    forest_method: IForest | EIForest | SCIForest | FCForest | RRCForest,\n",
    "    args: dict\n",
    ") -> tuple:\n",
    "    aurocs = []\n",
    "    auprs = []\n",
    "    times = []\n",
    "\n",
    "    for seed in seeds:\n",
    "        args_with_seed = {**args, \"seed\": seed}\n",
    "        forest = forest_method(**args_with_seed)\n",
    "\n",
    "        start = time.time()\n",
    "        forest.fit(X)\n",
    "        end = time.time()\n",
    "\n",
    "        auroc = roc_auc_score(y, forest.decision_scores)\n",
    "        aupr = average_precision_score(y, forest.decision_scores)\n",
    "        time_to_run = end - start\n",
    "\n",
    "        aurocs.append(auroc)\n",
    "        auprs.append(aupr)\n",
    "        times.append(time_to_run)\n",
    "        \n",
    "    return np.array(aurocs), np.array(auprs), np.array(times)"
   ]
  },
  {
   "cell_type": "code",
   "execution_count": 61,
   "metadata": {},
   "outputs": [
    {
     "name": "stdout",
     "output_type": "stream",
     "text": [
      "IForest:\n",
      "--------\n",
      "AUROC 0.6582\n",
      "AUPR 0.5418\n",
      "Time 4.1136s\n"
     ]
    }
   ],
   "source": [
    "if_aurocs, if_auprs, if_times = run_forest(IForest, iforest_params)\n",
    "\n",
    "print(\"IForest:\")\n",
    "print(\"--------\")\n",
    "print(f\"AUROC {np.mean(if_aurocs):.4f}\")\n",
    "print(f\"AUPR {np.mean(if_auprs):.4f}\")\n",
    "print(f\"Time {np.mean(if_times):.4f}s\")"
   ]
  },
  {
   "cell_type": "code",
   "execution_count": 62,
   "metadata": {},
   "outputs": [
    {
     "name": "stdout",
     "output_type": "stream",
     "text": [
      "IForest-U:\n",
      "--------\n",
      "AUROC 0.7130\n",
      "AUPR 0.6103\n",
      "Time 8.9876s\n"
     ]
    }
   ],
   "source": [
    "if_aurocs, if_auprs, if_times = run_forest(IForest, fcf_params)\n",
    "\n",
    "print(\"IForest-U:\")\n",
    "print(\"--------\")\n",
    "print(f\"AUROC {np.mean(if_aurocs):.4f}\")\n",
    "print(f\"AUPR {np.mean(if_auprs):.4f}\")\n",
    "print(f\"Time {np.mean(if_times):.4f}s\")"
   ]
  },
  {
   "cell_type": "code",
   "execution_count": 63,
   "metadata": {},
   "outputs": [
    {
     "name": "stdout",
     "output_type": "stream",
     "text": [
      "EIForest:\n",
      "--------\n",
      "AUROC 0.6878\n",
      "AUPR 0.5841\n",
      "Time 12.4717s\n"
     ]
    }
   ],
   "source": [
    "eif_aurocs, eif_auprs, eif_times = run_forest(EIForest, iforest_params)\n",
    "\n",
    "print(\"EIForest:\")\n",
    "print(\"--------\")\n",
    "print(f\"AUROC {np.mean(eif_aurocs):.4f}\")\n",
    "print(f\"AUPR {np.mean(eif_auprs):.4f}\")\n",
    "print(f\"Time {np.mean(eif_times):.4f}s\")"
   ]
  },
  {
   "cell_type": "code",
   "execution_count": 64,
   "metadata": {},
   "outputs": [
    {
     "name": "stdout",
     "output_type": "stream",
     "text": [
      "EIForest-U:\n",
      "--------\n",
      "AUROC 0.7234\n",
      "AUPR 0.6059\n",
      "Time 40.2775s\n"
     ]
    }
   ],
   "source": [
    "eif_aurocs, eif_auprs, eif_times = run_forest(EIForest, fcf_params)\n",
    "\n",
    "print(\"EIForest-U:\")\n",
    "print(\"--------\")\n",
    "print(f\"AUROC {np.mean(eif_aurocs):.4f}\")\n",
    "print(f\"AUPR {np.mean(eif_auprs):.4f}\")\n",
    "print(f\"Time {np.mean(eif_times):.4f}s\")"
   ]
  },
  {
   "cell_type": "code",
   "execution_count": 65,
   "metadata": {},
   "outputs": [
    {
     "name": "stdout",
     "output_type": "stream",
     "text": [
      "SCIForest:\n",
      "--------\n",
      "AUROC 0.6033\n",
      "AUPR 0.5960\n",
      "Time 12.5499s\n"
     ]
    }
   ],
   "source": [
    "scif_aurocs, scif_auprs, scif_times = run_forest(SCIForest, iforest_params)\n",
    "\n",
    "print(\"SCIForest:\")\n",
    "print(\"--------\")\n",
    "print(f\"AUROC {np.mean(scif_aurocs):.4f}\")\n",
    "print(f\"AUPR {np.mean(scif_auprs):.4f}\")\n",
    "print(f\"Time {np.mean(scif_times):.4f}s\")"
   ]
  },
  {
   "cell_type": "code",
   "execution_count": 66,
   "metadata": {},
   "outputs": [
    {
     "name": "stdout",
     "output_type": "stream",
     "text": [
      "SCIForest-U:\n",
      "--------\n",
      "AUROC 0.7331\n",
      "AUPR 0.6715\n",
      "Time 77.7249s\n"
     ]
    }
   ],
   "source": [
    "scif_aurocs, scif_auprs, scif_times = run_forest(SCIForest, fcf_params)\n",
    "\n",
    "print(\"SCIForest-U:\")\n",
    "print(\"--------\")\n",
    "print(f\"AUROC {np.mean(scif_aurocs):.4f}\")\n",
    "print(f\"AUPR {np.mean(scif_auprs):.4f}\")\n",
    "print(f\"Time {np.mean(scif_times):.4f}s\")"
   ]
  },
  {
   "cell_type": "code",
   "execution_count": 67,
   "metadata": {},
   "outputs": [
    {
     "name": "stdout",
     "output_type": "stream",
     "text": [
      "FCForest:\n",
      "--------\n",
      "AUROC 0.7459\n",
      "AUPR 0.6104\n",
      "Time 55.4516s\n"
     ]
    }
   ],
   "source": [
    "fcf_aurocs, fcf_auprs, fcf_times = run_forest(FCForest, fcf_params)\n",
    "\n",
    "print(\"FCForest:\")\n",
    "print(\"--------\")\n",
    "print(f\"AUROC {np.mean(fcf_aurocs):.4f}\")\n",
    "print(f\"AUPR {np.mean(fcf_auprs):.4f}\")\n",
    "print(f\"Time {np.mean(fcf_times):.4f}s\")"
   ]
  },
  {
   "cell_type": "code",
   "execution_count": null,
   "metadata": {},
   "outputs": [
    {
     "name": "stdout",
     "output_type": "stream",
     "text": [
      "OCSVM:\n",
      "--------\n",
      "AUROC: 0.6636\n",
      "AUPR: 0.6550\n",
      "Time: 4.6073\n"
     ]
    }
   ],
   "source": [
    "ocsvm_ = OCSVM(kernel=\"rbf\", contamination=contamination)\n",
    "ocsvm_.fit(X)\n",
    "\n",
    "start = time.time()\n",
    "ocsvm_.fit(X)\n",
    "end = time.time()\n",
    "\n",
    "auroc = roc_auc_score(y, ocsvm_.decision_scores_)\n",
    "aupr = average_precision_score(y, ocsvm_.decision_scores_)\n",
    "time_to_run = end - start\n",
    "\n",
    "print(\"OCSVM:\")\n",
    "print(\"--------\")\n",
    "print(f\"AUROC: {auroc:.4f}\")\n",
    "print(f\"AUPR: {aupr:.4f}\")\n",
    "print(f\"Time: {time_to_run:.4f}\")"
   ]
  },
  {
   "cell_type": "code",
   "execution_count": 72,
   "metadata": {},
   "outputs": [
    {
     "name": "stdout",
     "output_type": "stream",
     "text": [
      "DIForest:\n",
      "--------\n",
      "AUROC 0.6470\n",
      "AUPR 0.6226\n",
      "Time 23.1105s\n"
     ]
    }
   ],
   "source": [
    "dif_aurocs, dif_auprs, dif_times = [], [], []\n",
    "\n",
    "for seed in seeds:\n",
    "    dif_ = DIF(\n",
    "        \n",
    "        contamination=contamination, \n",
    "        random_state=seed\n",
    "    )\n",
    "\n",
    "    start = time.time()\n",
    "    dif_.fit(X)\n",
    "    end = time.time()\n",
    "\n",
    "    auroc = roc_auc_score(y, dif_.decision_scores_)\n",
    "    aupr = average_precision_score(y, dif_.decision_scores_)\n",
    "    time_to_run = end - start\n",
    "\n",
    "    dif_aurocs.append(auroc)\n",
    "    dif_auprs.append(aupr)\n",
    "    dif_times.append(time_to_run)\n",
    "\n",
    "dif_aurocs = np.array(dif_aurocs)\n",
    "dif_auprs = np.array(dif_auprs)\n",
    "dif_times = np.array(dif_times)\n",
    "\n",
    "print(\"DIForest:\")\n",
    "print(\"--------\")\n",
    "print(f\"AUROC {np.mean(dif_aurocs):.4f}\")\n",
    "print(f\"AUPR {np.mean(dif_auprs):.4f}\")\n",
    "print(f\"Time {np.mean(dif_times):.4f}s\")\n"
   ]
  }
 ],
 "metadata": {
  "kernelspec": {
   "display_name": "Python 3",
   "language": "python",
   "name": "python3"
  },
  "language_info": {
   "codemirror_mode": {
    "name": "ipython",
    "version": 3
   },
   "file_extension": ".py",
   "mimetype": "text/x-python",
   "name": "python",
   "nbconvert_exporter": "python",
   "pygments_lexer": "ipython3",
   "version": "3.11.2"
  }
 },
 "nbformat": 4,
 "nbformat_minor": 2
}
